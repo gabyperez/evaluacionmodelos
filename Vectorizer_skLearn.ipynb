{
  "cells": [
    {
      "cell_type": "markdown",
      "metadata": {
        "id": "view-in-github",
        "colab_type": "text"
      },
      "source": [
        "<a href=\"https://colab.research.google.com/github/gabyperez/evaluacionmodelos/blob/main/Vectorizer_skLearn.ipynb\" target=\"_parent\"><img src=\"https://colab.research.google.com/assets/colab-badge.svg\" alt=\"Open In Colab\"/></a>"
      ]
    },
    {
      "cell_type": "code",
      "source": [
        "!python -m spacy download es_core_news_sm"
      ],
      "metadata": {
        "colab": {
          "base_uri": "https://localhost:8080/"
        },
        "id": "iP3PCH-EyZYu",
        "outputId": "ffcf10ec-3fdd-48e1-dd06-af25eb7b4d89"
      },
      "execution_count": null,
      "outputs": [
        {
          "output_type": "stream",
          "name": "stdout",
          "text": [
            "Collecting es-core-news-sm==3.7.0\n",
            "  Downloading https://github.com/explosion/spacy-models/releases/download/es_core_news_sm-3.7.0/es_core_news_sm-3.7.0-py3-none-any.whl (12.9 MB)\n",
            "\u001b[2K     \u001b[90m━━━━━━━━━━━━━━━━━━━━━━━━━━━━━━━━━━━━━━━━\u001b[0m \u001b[32m12.9/12.9 MB\u001b[0m \u001b[31m16.5 MB/s\u001b[0m eta \u001b[36m0:00:00\u001b[0m\n",
            "\u001b[?25hRequirement already satisfied: spacy<3.8.0,>=3.7.0 in /usr/local/lib/python3.10/dist-packages (from es-core-news-sm==3.7.0) (3.7.4)\n",
            "Requirement already satisfied: spacy-legacy<3.1.0,>=3.0.11 in /usr/local/lib/python3.10/dist-packages (from spacy<3.8.0,>=3.7.0->es-core-news-sm==3.7.0) (3.0.12)\n",
            "Requirement already satisfied: spacy-loggers<2.0.0,>=1.0.0 in /usr/local/lib/python3.10/dist-packages (from spacy<3.8.0,>=3.7.0->es-core-news-sm==3.7.0) (1.0.5)\n",
            "Requirement already satisfied: murmurhash<1.1.0,>=0.28.0 in /usr/local/lib/python3.10/dist-packages (from spacy<3.8.0,>=3.7.0->es-core-news-sm==3.7.0) (1.0.10)\n",
            "Requirement already satisfied: cymem<2.1.0,>=2.0.2 in /usr/local/lib/python3.10/dist-packages (from spacy<3.8.0,>=3.7.0->es-core-news-sm==3.7.0) (2.0.8)\n",
            "Requirement already satisfied: preshed<3.1.0,>=3.0.2 in /usr/local/lib/python3.10/dist-packages (from spacy<3.8.0,>=3.7.0->es-core-news-sm==3.7.0) (3.0.9)\n",
            "Requirement already satisfied: thinc<8.3.0,>=8.2.2 in /usr/local/lib/python3.10/dist-packages (from spacy<3.8.0,>=3.7.0->es-core-news-sm==3.7.0) (8.2.3)\n",
            "Requirement already satisfied: wasabi<1.2.0,>=0.9.1 in /usr/local/lib/python3.10/dist-packages (from spacy<3.8.0,>=3.7.0->es-core-news-sm==3.7.0) (1.1.2)\n",
            "Requirement already satisfied: srsly<3.0.0,>=2.4.3 in /usr/local/lib/python3.10/dist-packages (from spacy<3.8.0,>=3.7.0->es-core-news-sm==3.7.0) (2.4.8)\n",
            "Requirement already satisfied: catalogue<2.1.0,>=2.0.6 in /usr/local/lib/python3.10/dist-packages (from spacy<3.8.0,>=3.7.0->es-core-news-sm==3.7.0) (2.0.10)\n",
            "Requirement already satisfied: weasel<0.4.0,>=0.1.0 in /usr/local/lib/python3.10/dist-packages (from spacy<3.8.0,>=3.7.0->es-core-news-sm==3.7.0) (0.3.4)\n",
            "Requirement already satisfied: typer<0.10.0,>=0.3.0 in /usr/local/lib/python3.10/dist-packages (from spacy<3.8.0,>=3.7.0->es-core-news-sm==3.7.0) (0.9.0)\n",
            "Requirement already satisfied: smart-open<7.0.0,>=5.2.1 in /usr/local/lib/python3.10/dist-packages (from spacy<3.8.0,>=3.7.0->es-core-news-sm==3.7.0) (6.4.0)\n",
            "Requirement already satisfied: tqdm<5.0.0,>=4.38.0 in /usr/local/lib/python3.10/dist-packages (from spacy<3.8.0,>=3.7.0->es-core-news-sm==3.7.0) (4.66.2)\n",
            "Requirement already satisfied: requests<3.0.0,>=2.13.0 in /usr/local/lib/python3.10/dist-packages (from spacy<3.8.0,>=3.7.0->es-core-news-sm==3.7.0) (2.31.0)\n",
            "Requirement already satisfied: pydantic!=1.8,!=1.8.1,<3.0.0,>=1.7.4 in /usr/local/lib/python3.10/dist-packages (from spacy<3.8.0,>=3.7.0->es-core-news-sm==3.7.0) (2.6.4)\n",
            "Requirement already satisfied: jinja2 in /usr/local/lib/python3.10/dist-packages (from spacy<3.8.0,>=3.7.0->es-core-news-sm==3.7.0) (3.1.3)\n",
            "Requirement already satisfied: setuptools in /usr/local/lib/python3.10/dist-packages (from spacy<3.8.0,>=3.7.0->es-core-news-sm==3.7.0) (67.7.2)\n",
            "Requirement already satisfied: packaging>=20.0 in /usr/local/lib/python3.10/dist-packages (from spacy<3.8.0,>=3.7.0->es-core-news-sm==3.7.0) (24.0)\n",
            "Requirement already satisfied: langcodes<4.0.0,>=3.2.0 in /usr/local/lib/python3.10/dist-packages (from spacy<3.8.0,>=3.7.0->es-core-news-sm==3.7.0) (3.3.0)\n",
            "Requirement already satisfied: numpy>=1.19.0 in /usr/local/lib/python3.10/dist-packages (from spacy<3.8.0,>=3.7.0->es-core-news-sm==3.7.0) (1.25.2)\n",
            "Requirement already satisfied: annotated-types>=0.4.0 in /usr/local/lib/python3.10/dist-packages (from pydantic!=1.8,!=1.8.1,<3.0.0,>=1.7.4->spacy<3.8.0,>=3.7.0->es-core-news-sm==3.7.0) (0.6.0)\n",
            "Requirement already satisfied: pydantic-core==2.16.3 in /usr/local/lib/python3.10/dist-packages (from pydantic!=1.8,!=1.8.1,<3.0.0,>=1.7.4->spacy<3.8.0,>=3.7.0->es-core-news-sm==3.7.0) (2.16.3)\n",
            "Requirement already satisfied: typing-extensions>=4.6.1 in /usr/local/lib/python3.10/dist-packages (from pydantic!=1.8,!=1.8.1,<3.0.0,>=1.7.4->spacy<3.8.0,>=3.7.0->es-core-news-sm==3.7.0) (4.10.0)\n",
            "Requirement already satisfied: charset-normalizer<4,>=2 in /usr/local/lib/python3.10/dist-packages (from requests<3.0.0,>=2.13.0->spacy<3.8.0,>=3.7.0->es-core-news-sm==3.7.0) (3.3.2)\n",
            "Requirement already satisfied: idna<4,>=2.5 in /usr/local/lib/python3.10/dist-packages (from requests<3.0.0,>=2.13.0->spacy<3.8.0,>=3.7.0->es-core-news-sm==3.7.0) (3.6)\n",
            "Requirement already satisfied: urllib3<3,>=1.21.1 in /usr/local/lib/python3.10/dist-packages (from requests<3.0.0,>=2.13.0->spacy<3.8.0,>=3.7.0->es-core-news-sm==3.7.0) (2.0.7)\n",
            "Requirement already satisfied: certifi>=2017.4.17 in /usr/local/lib/python3.10/dist-packages (from requests<3.0.0,>=2.13.0->spacy<3.8.0,>=3.7.0->es-core-news-sm==3.7.0) (2024.2.2)\n",
            "Requirement already satisfied: blis<0.8.0,>=0.7.8 in /usr/local/lib/python3.10/dist-packages (from thinc<8.3.0,>=8.2.2->spacy<3.8.0,>=3.7.0->es-core-news-sm==3.7.0) (0.7.11)\n",
            "Requirement already satisfied: confection<1.0.0,>=0.0.1 in /usr/local/lib/python3.10/dist-packages (from thinc<8.3.0,>=8.2.2->spacy<3.8.0,>=3.7.0->es-core-news-sm==3.7.0) (0.1.4)\n",
            "Requirement already satisfied: click<9.0.0,>=7.1.1 in /usr/local/lib/python3.10/dist-packages (from typer<0.10.0,>=0.3.0->spacy<3.8.0,>=3.7.0->es-core-news-sm==3.7.0) (8.1.7)\n",
            "Requirement already satisfied: cloudpathlib<0.17.0,>=0.7.0 in /usr/local/lib/python3.10/dist-packages (from weasel<0.4.0,>=0.1.0->spacy<3.8.0,>=3.7.0->es-core-news-sm==3.7.0) (0.16.0)\n",
            "Requirement already satisfied: MarkupSafe>=2.0 in /usr/local/lib/python3.10/dist-packages (from jinja2->spacy<3.8.0,>=3.7.0->es-core-news-sm==3.7.0) (2.1.5)\n",
            "Installing collected packages: es-core-news-sm\n",
            "Successfully installed es-core-news-sm-3.7.0\n",
            "\u001b[38;5;2m✔ Download and installation successful\u001b[0m\n",
            "You can now load the package via spacy.load('es_core_news_sm')\n",
            "\u001b[38;5;3m⚠ Restart to reload dependencies\u001b[0m\n",
            "If you are in a Jupyter or Colab notebook, you may need to restart Python in\n",
            "order to load all the package's dependencies. You can do this by selecting the\n",
            "'Restart kernel' or 'Restart runtime' option.\n"
          ]
        }
      ]
    },
    {
      "cell_type": "markdown",
      "metadata": {
        "id": "SkbdVYGtA-rq"
      },
      "source": [
        "#Descargo los escenarios"
      ]
    },
    {
      "cell_type": "code",
      "source": [
        "#@title Se realizan las consultas\n",
        "query = \"Realizar fumigación para controlar plagas\"\n",
        "#query = \"Recortar ramas de la planta\"\n",
        "#query = \"Distribuir agua en los cultivos\"\n",
        "#query = \"Recolectar los tomates maduros\"\n",
        "#query = \"Erradicar vegetación indeseada\"\n",
        "\n",
        "titulos_escenarios  = [\"Eliminar las malezas\", \"Quitar las malas hierbas\", \"Controlar las plagas\", \"Despuntar las inflorescencias\",\n",
        "             \"Regar las plantas de tomate\", \"Controlar las enfermedades bacterianas\", \"Prevención de enfermedades fungosas\",\n",
        "             \"Cosechar los tomates de forma manual\", \"Realizar el podado de las plantas\", \"Controlar las plagas e insectos\", \"Regar las plántulas de tomate\",\n",
        "             \"Cosechar los tomates en racimos\", \"Controlar las enfermedades virales\", \"Realizar la poda de forma manual\"]\n",
        "print(\"query\", query)"
      ],
      "metadata": {
        "colab": {
          "base_uri": "https://localhost:8080/"
        },
        "id": "iYYCuzZ-w6NW",
        "outputId": "c37f7f35-d8b6-4f85-d5fe-f94a79a9e5de"
      },
      "execution_count": null,
      "outputs": [
        {
          "output_type": "stream",
          "name": "stdout",
          "text": [
            "query Realizar fumigación para controlar plagas\n"
          ]
        }
      ]
    },
    {
      "cell_type": "code",
      "source": [
        "import spacy\n",
        "from sklearn.feature_extraction.text import TfidfVectorizer\n",
        "\n",
        "# Cargar el modelo de español de spaCy\n",
        "nlp = spacy.load(\"es_core_news_sm\")\n",
        "\n",
        "# trabajo las oraciones sacando los stopwords y lemmatizando\n",
        "frases_minusculas = [oracion.lower() for oracion in titulos_escenarios]\n",
        "frases_procesadas = [nlp(frase) for frase in frases_minusculas]\n",
        "tokens_lematizados = [[token.lemma_ for token in frase if not token.is_stop] for frase in frases_procesadas]\n",
        "print(tokens_lematizados)\n",
        "\n",
        "# Convertir los tokens lematizados de cada frase a texto nuevamente\n",
        "textos_frases = [\" \".join(tokens) for tokens in tokens_lematizados]\n",
        "\n",
        "# Inicializar el vectorizador TF-IDF\n",
        "tfidf_vectorizer = TfidfVectorizer()\n",
        "\n",
        "# Aplicar el vectorizador TF-IDF a los textos de las frases lematizadas\n",
        "tfidf_matrix = tfidf_vectorizer.fit_transform(textos_frases)\n",
        "\n",
        "# Verificar la forma de la matriz TF-IDF\n",
        "print(\"Forma de la matriz TF-IDF:\", tfidf_matrix.shape)  # 19 escenarios y 31 terminos\n",
        "\n",
        "\n",
        "# Verificar el vocabulario generado por el vectorizador\n",
        "print(\"Vocabulario generado por el vectorizador:\", tfidf_vectorizer.get_feature_names_out())\n"
      ],
      "metadata": {
        "colab": {
          "base_uri": "https://localhost:8080/"
        },
        "id": "yb8zu4tbyQnl",
        "outputId": "a207c6e2-4fdf-472f-d92e-4749547258c7"
      },
      "execution_count": null,
      "outputs": [
        {
          "output_type": "stream",
          "name": "stdout",
          "text": [
            "[['eliminar', 'maleza'], ['quitar', 'mala', 'hierba'], ['controlar', 'plaga'], ['despuntar', 'inflorescencia'], ['regar', 'planta', 'tomate'], ['controlar', 'enfermedad', 'bacteriana'], ['prevención', 'enfermedad', 'fungosa'], ['cosechar', 'tomate', 'forma', 'manual'], ['podado', 'planta', 'fumigación'], ['controlar', 'plaga', 'insecto'], ['regar', 'plántula', 'tomate'], ['cosechar', 'tomate', 'racimo'], ['controlar', 'enfermedad', 'viral'], ['poda', 'forma', 'manual']]\n",
            "Forma de la matriz TF-IDF: (14, 26)\n",
            "Vocabulario generado por el vectorizador: ['bacteriana' 'controlar' 'cosechar' 'despuntar' 'eliminar' 'enfermedad'\n",
            " 'forma' 'fumigación' 'fungosa' 'hierba' 'inflorescencia' 'insecto' 'mala'\n",
            " 'maleza' 'manual' 'plaga' 'planta' 'plántula' 'poda' 'podado'\n",
            " 'prevención' 'quitar' 'racimo' 'regar' 'tomate' 'viral']\n"
          ]
        }
      ]
    },
    {
      "cell_type": "code",
      "source": [
        "#@title identifico la consulta que quiero hacer\n",
        "# trabajo las oraciones sacando los stopwords y lemmatizando\n",
        "from sklearn.metrics.pairwise import cosine_similarity\n",
        "import numpy as np\n",
        "\n",
        "#convierto el titulo nuevo\n",
        "query_minuscula = query.lower()\n",
        "query_procesada = nlp(query_minuscula)\n",
        "query_lematizada = [token.lemma_ for token in query_procesada if not token.is_stop]\n",
        "print(query_lematizada)\n",
        "texto_consulta = \" \".join(query_lematizada)\n",
        "\n",
        "texto_en_buscar_embedding = tfidf_vectorizer.transform([texto_consulta])\n",
        "\n",
        "\n",
        "#comparo con coseno el titulo nuevo con los otros escenarios\n",
        "coseno_scores = cosine_similarity(texto_en_buscar_embedding, tfidf_matrix)\n",
        "\n",
        "\n",
        "#los ordeno y los enumero\n",
        "indices_ordenados_maxmin = np.argsort(-coseno_scores).tolist()[0]\n",
        "valores_coseno = coseno_scores[0].tolist()\n",
        "\n",
        "\n",
        "respuestas_mayores = []\n",
        "for indice, indice_coseno in enumerate(indices_ordenados_maxmin):\n",
        "    #print(\"indice\", indice_coseno, \"valor: \", valores_coseno[indice_coseno])\n",
        "    elemento = [indice_coseno, \"indice real\", indice_coseno+1,  titulos_escenarios[indice_coseno], valores_coseno[indice_coseno]]\n",
        "    respuestas_mayores.append(elemento)\n",
        "[print(item) for item in respuestas_mayores]\n",
        "\n",
        "\n"
      ],
      "metadata": {
        "id": "g9N4aNuhf9sv",
        "colab": {
          "base_uri": "https://localhost:8080/"
        },
        "outputId": "d164e2ae-83c2-4f5b-b904-af70c45247b7"
      },
      "execution_count": null,
      "outputs": [
        {
          "output_type": "stream",
          "name": "stdout",
          "text": [
            "['fumigación', 'controlar', 'plaga']\n",
            "[2, 'indice real', 3, 'Controlar las plagas', 0.7431690203273478]\n",
            "[9, 'indice real', 10, 'Controlar las plagas e insectos', 0.55230019277431]\n",
            "[8, 'indice real', 9, 'Realizar el podado de las plantas fumigación', 0.4035498316068679]\n",
            "[5, 'indice real', 6, 'Controlar las enfermedades bacterianas', 0.2249227315895555]\n",
            "[12, 'indice real', 13, 'Controlar las enfermedades virales', 0.2249227315895555]\n",
            "[0, 'indice real', 1, 'Eliminar las malezas', 0.0]\n",
            "[1, 'indice real', 2, 'Quitar las malas hierbas', 0.0]\n",
            "[3, 'indice real', 4, 'Despuntar las inflorescencias', 0.0]\n",
            "[4, 'indice real', 5, 'Regar las plantas de tomate', 0.0]\n",
            "[6, 'indice real', 7, 'Prevención de enfermedades fungosas', 0.0]\n",
            "[7, 'indice real', 8, 'Cosechar los tomates de forma manual', 0.0]\n",
            "[10, 'indice real', 11, 'Regar las plántulas de tomate', 0.0]\n",
            "[11, 'indice real', 12, 'Cosechar los tomates en racimos', 0.0]\n",
            "[13, 'indice real', 14, 'Realizar la poda de forma manual', 0.0]\n"
          ]
        },
        {
          "output_type": "execute_result",
          "data": {
            "text/plain": [
              "[None,\n",
              " None,\n",
              " None,\n",
              " None,\n",
              " None,\n",
              " None,\n",
              " None,\n",
              " None,\n",
              " None,\n",
              " None,\n",
              " None,\n",
              " None,\n",
              " None,\n",
              " None]"
            ]
          },
          "metadata": {},
          "execution_count": 9
        }
      ]
    }
  ],
  "metadata": {
    "colab": {
      "provenance": [],
      "include_colab_link": true
    },
    "kernelspec": {
      "display_name": "Python 3",
      "name": "python3"
    },
    "language_info": {
      "name": "python"
    }
  },
  "nbformat": 4,
  "nbformat_minor": 0
}